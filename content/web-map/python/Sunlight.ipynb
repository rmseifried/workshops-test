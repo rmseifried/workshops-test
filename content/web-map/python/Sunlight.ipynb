{
  "nbformat": 4,
  "nbformat_minor": 0,
  "metadata": {
    "colab": {
      "name": "Sunlight.ipynb",
      "provenance": [],
      "authorship_tag": "ABX9TyNQ1H62zyBHGP8v7qoz4aTx",
      "include_colab_link": true
    },
    "kernelspec": {
      "name": "python3",
      "display_name": "Python 3"
    },
    "language_info": {
      "name": "python"
    }
  },
  "cells": [
    {
      "cell_type": "markdown",
      "metadata": {
        "id": "view-in-github",
        "colab_type": "text"
      },
      "source": [
        "<a href=\"https://colab.research.google.com/github/umass-gis/workshops/blob/main/content/web-map/python/Sunlight.ipynb\" target=\"_parent\"><img src=\"https://colab.research.google.com/assets/colab-badge.svg\" alt=\"Open In Colab\"/></a>"
      ]
    },
    {
      "cell_type": "code",
      "execution_count": null,
      "metadata": {
        "id": "tPpq0_kDVUZn"
      },
      "outputs": [],
      "source": [
        "# Notebook for generating sunset times from the NOAA Solar Calculations\n",
        "# Coordinate extremes from https://en.wikipedia.org/wiki/List_of_extreme_points_of_the_United_States\n",
        "# Sunrise/sunset API from https://sunrise-sunset.org/api\n",
        "# Cities data from https://simplemaps.com/data/us-cities\n",
        "# ISO8601/UTC to Local Time code from https://medium.com/xster-tech/python-convert-iso8601-utc-to-local-time-a386652b0306\n",
        "\n",
        "import csv\n",
        "import pandas as pd\n",
        "import requests\n",
        "import json\n",
        "import pytz, dateutil.parser\n",
        "from datetime import *\n",
        "\n",
        "# If this is the first session run this code to mount to Google Drive\n",
        "#from google.colab import drive\n",
        "#drive.mount('/drive')\n",
        "\n",
        "# Optional code to print a formatted JSON object\n",
        "def jprint(obj):\n",
        "    text = json.dumps(obj, sort_keys=True, indent=4)\n",
        "    print(text)\n",
        "\n",
        "# Define the CSV to be queried\n",
        "file = ('/drive/MyDrive/Colab Notebooks/Sunlight/uscities_1000.csv')\n",
        "\n",
        "# Define columns and rows for the output CSV\n",
        "cols = ['city', 'state_id', 'state_name', 'lat', 'lng', 'population', 'density', 'timezone', 'sunrise_long', 'sunset_long', 'sunrise_short', 'sunset_short', 'day_length', 'night_length']\n",
        "rows = []\n",
        "\n",
        "# Create a place to store multiple dataframes for each processed row\n",
        "dfs = []\n",
        "\n",
        "# Start the counter\n",
        "record_count = 0\n"
      ]
    },
    {
      "cell_type": "code",
      "source": [
        "# Open the CSV and make sure to close it when done processing\n",
        "with open(file, 'r', encoding='windows-1252') as f:\n",
        "\n",
        "    # Read the CSV and load values into dictionary\n",
        "    reader = csv.DictReader(f)\n",
        "\n",
        "    # Process one row at a time\n",
        "    for row in reader:\n",
        "\n",
        "      # Increase the count each time a file is processed\n",
        "      record_count = record_count + 1\n",
        "\n",
        "      # Print the number of records processed\n",
        "      print(record_count)\n",
        "      \n",
        "      # Retrieve important values from the row\n",
        "      city = row['city']\n",
        "      state_id = row['state_id']\n",
        "      state_name = row['state_name']\n",
        "      lat = row['lat']\n",
        "      lng = row['lng']\n",
        "      population = row['population']\n",
        "      density = row['density']\n",
        "      timezone = row['timezone']\n",
        "    \n",
        "      # Set Sunrise/Sunset API Parameters\n",
        "      # lat (float): Latitude in decimal degrees. Required.\n",
        "      # lng (float): Longitude in decimal degrees. Required.\n",
        "      # date (string): Date in YYYY-MM-DD format. Also accepts other date formats and even relative date formats. If not present, date defaults to current date. Optional.\n",
        "      # callback (string): Callback function name for JSONP response. Optional.\n",
        "      # formatted (integer): 0 or 1 (1 is default). Time values in response will be expressed following ISO 8601 and day_length will be expressed in seconds. Optional.\n",
        "\n",
        "      parameters = {\n",
        "          'lat': float(lat),\n",
        "          'lng': float(lng),\n",
        "          'date': \"2022-12-21\",\n",
        "          'formatted': 0\n",
        "          }\n",
        "      \n",
        "      # Call the API\n",
        "      sunlight = requests.get('https://api.sunrise-sunset.org/json?', params=parameters)\n",
        "\n",
        "      # Print the formatted JSON of this query <-- useful for testing\n",
        "      # jprint(sunlight.json())\n",
        "\n",
        "      # Filter out just the 'results' key\n",
        "      results = sunlight.json()['results']\n",
        "\n",
        "      # Locate individual values from results\n",
        "      sunrise = results['sunrise']\n",
        "      sunset = results['sunset']\n",
        "      day_length = results['day_length']\n",
        "\n",
        "      # Convert the sunrise/sunset times to local timezones\n",
        "      sunrise_utc = dateutil.parser.parse(sunrise)\n",
        "      sunrise_local = sunrise_utc.astimezone(pytz.timezone(timezone))\n",
        "      sunset_utc = dateutil.parser.parse(sunset)\n",
        "      sunset_local = sunset_utc.astimezone(pytz.timezone(timezone))\n",
        "\n",
        "      # Format the sunrise/sunset times to simple hours and minutes\n",
        "      sunrise_time = datetime.strptime(str(sunrise_local), \"%Y-%m-%d %H:%M:%S%z\")\n",
        "      sunrise_format = sunrise_time.strftime(\"%-I:%M %p\")\n",
        "      sunset_time = datetime.strptime(str(sunset_local), \"%Y-%m-%d %H:%M:%S%z\")\n",
        "      sunset_format = sunset_time.strftime(\"%-I:%M %p\")\n",
        "\n",
        "      # Convert day length from seconds to decimal hours\n",
        "      day_length_hours = (day_length / 3600)\n",
        "\n",
        "      # Calculate night length\n",
        "      night_length_hours = (24 - day_length_hours)\n",
        "\n",
        "      # Stage the information retrieved from this file into a temporary dataframe\n",
        "      this_df = pd.DataFrame([{'city': city,\n",
        "                               'state_id': state_id,\n",
        "                               'state_name': state_name,\n",
        "                               'lat': lat,\n",
        "                               'lng': lng,\n",
        "                               'population': population,\n",
        "                               'density': density,\n",
        "                               'timezone': timezone, \n",
        "                               'sunrise_long': sunrise_local,\n",
        "                               'sunset_long': sunset_local,\n",
        "                               'sunrise_short': sunrise_format,\n",
        "                               'sunset_short': sunset_format,\n",
        "                               'day_length': day_length_hours,\n",
        "                               'night_length': night_length_hours,\n",
        "                               }], columns=cols)\n",
        "\n",
        "      # Append this dataframe to the dfs list\n",
        "      dfs.append(this_df)\n",
        "\n",
        "# Concatenate all the dfs into a single dataframe\n",
        "df = pd.concat(dfs)\n",
        "\n",
        "# Write the dataframe to csv\n",
        "df.to_csv('/drive/MyDrive/Colab Notebooks/Sunlight/uscities_1000_sunlight.csv', index=False)\n",
        "\n"
      ],
      "metadata": {
        "id": "8mVjsgMOaJTg"
      },
      "execution_count": null,
      "outputs": []
    },
    {
      "cell_type": "code",
      "source": [
        "### Testing a point in NYC ###\n",
        "\n",
        "import requests\n",
        "import json\n",
        "\n",
        "# Optional code to print a formatted JSON object\n",
        "def jprint(obj):\n",
        "    text = json.dumps(obj, sort_keys=True, indent=4)\n",
        "    print(text)\n",
        "\n",
        "# Input data\n",
        "lat = 40.7127281\n",
        "lng = -74.0060152\n",
        "date = \"2021-12-21\"\n",
        "formatted = 0\n",
        "\n",
        "# Set API Parameters\n",
        "# lat (float): Latitude in decimal degrees. Required.\n",
        "# lng (float): Longitude in decimal degrees. Required.\n",
        "# date (string): Date in YYYY-MM-DD format. Also accepts other date formats and even relative date formats. If not present, date defaults to current date. Optional.\n",
        "# callback (string): Callback function name for JSONP response. Optional.\n",
        "# formatted (integer): 0 or 1 (1 is default). Time values in response will be expressed following ISO 8601 and day_length will be expressed in seconds. Optional.\n",
        "\n",
        "parameters = {\n",
        "    'lat': float(lat),\n",
        "    'lng': float(lng),\n",
        "    'date': str(date),\n",
        "    'formatted': 0\n",
        "    }\n",
        "\n",
        "print(parameters)"
      ],
      "metadata": {
        "id": "B5_CHIDRdVLQ"
      },
      "execution_count": null,
      "outputs": []
    },
    {
      "cell_type": "code",
      "source": [
        "# Call the API\n",
        "sunlight = requests.get('https://api.sunrise-sunset.org/json?', params=parameters)\n",
        "\n",
        "# Print the formatted JSON of this query <-- useful for testing\n",
        "jprint(sunlight.json())\n"
      ],
      "metadata": {
        "id": "OAop8xZafwU-"
      },
      "execution_count": null,
      "outputs": []
    },
    {
      "cell_type": "code",
      "source": [
        "# Filter out just the 'results' key\n",
        "results = sunlight.json()['results']\n",
        "\n",
        "# Locate individual values from results\n",
        "sunrise = results['sunrise']\n",
        "sunset = results['sunset']\n",
        "day_length = results['day_length']\n",
        "\n",
        "print (sunrise, sunset, day_length)\n"
      ],
      "metadata": {
        "id": "l9nMCanVgyLR"
      },
      "execution_count": null,
      "outputs": []
    },
    {
      "cell_type": "code",
      "source": [
        "# Parse date result and format as local time\n",
        "\n",
        "import pytz, dateutil.parser\n",
        "\n",
        "utc_sunrise = dateutil.parser.parse(sunrise)\n",
        "local_sunrise = utc_sunrise.astimezone(pytz.timezone(\"America/New_York\"))\n",
        "\n",
        "utc_sunset = dateutil.parser.parse(sunset)\n",
        "local_sunset = utc_sunset.astimezone(pytz.timezone(\"America/New_York\"))\n",
        "\n",
        "print(local_sunrise, local_sunset)"
      ],
      "metadata": {
        "id": "EQZ6A8-_evM7"
      },
      "execution_count": null,
      "outputs": []
    },
    {
      "cell_type": "code",
      "source": [
        "# Calculate daylight in hours\n",
        "\n",
        "day_length_hours = (day_length / 3600)\n",
        "\n",
        "print(day_length_hours)"
      ],
      "metadata": {
        "id": "OPG3C-zrh82z"
      },
      "execution_count": null,
      "outputs": []
    },
    {
      "cell_type": "code",
      "source": [
        "# Format time as human readable\n",
        "\n",
        "from datetime import *\n",
        "\n",
        "time = datetime.strptime(str(local_sunrise), \"%Y-%m-%d %H:%M:%S%z\")\n",
        "sunrise_format = time.strftime(\"%-I:%M %p\")\n",
        "\n",
        "time = datetime.strptime(str(local_sunset), \"%Y-%m-%d %H:%M:%S%z\")\n",
        "sunset_format = time.strftime(\"%-I:%M %p\")\n",
        "\n",
        "print(sunrise_format, sunset_format)\n"
      ],
      "metadata": {
        "id": "1ISXt8sDp0GO"
      },
      "execution_count": null,
      "outputs": []
    }
  ]
}